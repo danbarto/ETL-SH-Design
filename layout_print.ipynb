{
 "cells": [
  {
   "cell_type": "markdown",
   "id": "creative-subdivision",
   "metadata": {},
   "source": [
    "# Print a simplified ETL layout from python"
   ]
  },
  {
   "cell_type": "markdown",
   "id": "collective-lender",
   "metadata": {},
   "source": [
    "Printing to scale on stack exchange: https://stackoverflow.com/questions/29400116/using-matplotlib-how-can-i-print-something-actual-size"
   ]
  },
  {
   "cell_type": "code",
   "execution_count": 3,
   "id": "involved-incident",
   "metadata": {},
   "outputs": [],
   "source": [
    "import matplotlib.pyplot as plt"
   ]
  },
  {
   "cell_type": "markdown",
   "id": "thrown-network",
   "metadata": {},
   "source": [
    "## Simple example"
   ]
  },
  {
   "cell_type": "code",
   "execution_count": 10,
   "id": "expressed-folder",
   "metadata": {},
   "outputs": [
    {
     "data": {
      "image/png": "[encoded data removed]",
      "text/plain": [
       "<Figure size 481.89x481.89 with 1 Axes>"
      ]
     },
     "metadata": {
      "needs_background": "light"
     },
     "output_type": "display_data"
    }
   ],
   "source": [
    "left_margin = 1.   # cm\n",
    "right_margin = 1.  # cm\n",
    "figure_width = 15. # cm\n",
    "figure_height = 15. # cm\n",
    "top_margin = 1.    # cm\n",
    "bottom_margin = 1. # cm\n",
    "\n",
    "box_width = left_margin + figure_width + right_margin   # cm\n",
    "box_height = top_margin + figure_height + bottom_margin # cm\n",
    "\n",
    "cm2inch = 1/2.54 # inch per cm\n",
    "\n",
    "# specifying the width and the height of the box in inches\n",
    "fig = plt.figure(figsize=(box_width*cm2inch,box_height*cm2inch))\n",
    "ax = fig.add_subplot(111)\n",
    "#ax.plot([1,2,3])\n",
    "\n",
    "ax.set_ylim(0,15)\n",
    "ax.set_xlim(0,15)\n",
    "\n",
    "ax.plot([0.5, 1.5],[0.25, 0.25],label='One cm?')\n",
    "ax.plot([6,6],[1,2], label='One cm?')\n",
    "ax.legend()\n",
    "\n",
    "fig.subplots_adjust(left   = left_margin / box_width,\n",
    "                    bottom = bottom_margin / box_height,\n",
    "                    right  = 1. - right_margin / box_width,\n",
    "                    top    = 1. - top_margin   / box_height,\n",
    "                    )\n",
    "fig.savefig('ten_x_seven_cm.png', dpi=128)\n",
    "# dpi = 128 is what works in my display for matching the designed dimensions."
   ]
  },
  {
   "cell_type": "markdown",
   "id": "artistic-pharmacy",
   "metadata": {},
   "source": [
    "## ETL single SH"
   ]
  },
  {
   "cell_type": "code",
   "execution_count": 11,
   "id": "guided-individual",
   "metadata": {},
   "outputs": [],
   "source": [
    "%reload_ext autoreload\n",
    "%autoreload 2\n",
    "\n",
    "from ETL import *;"
   ]
  },
  {
   "cell_type": "code",
   "execution_count": 23,
   "id": "enormous-syndication",
   "metadata": {},
   "outputs": [
    {
     "data": {
      "image/png": "[encoded data removed]",
      "text/plain": [
       "<Figure size 481.89x481.89 with 1 Axes>"
      ]
     },
     "metadata": {
      "needs_background": "light"
     },
     "output_type": "display_data"
    }
   ],
   "source": [
    "sensor_x = 2.14\n",
    "sensor_y = 2.16\n",
    "s = Sensor(sensor_x, sensor_y,deadspace=0.03)  # 3 sides of 0.3mm, 1 side of 0.5mm\n",
    "m = Module(4.310, 5.750, n_sensor_x=2, n_sensor_y=2, sensor_distance_y=sensor_y+0.02, sensor_distance_x=sensor_x+0.02)\n",
    "# this module is now 1mm larger in y\n",
    "\n",
    "left_margin = 1.   # cm\n",
    "right_margin = 1.  # cm\n",
    "figure_width = 15. # cm\n",
    "figure_height = 15. # cm\n",
    "top_margin = 1.    # cm\n",
    "bottom_margin = 1. # cm\n",
    "\n",
    "box_width = left_margin + figure_width + right_margin   # cm\n",
    "box_height = top_margin + figure_height + bottom_margin # cm\n",
    "\n",
    "# specifying the width and the height of the box in inches\n",
    "fig = plt.figure(figsize=(box_width*cm2inch,box_height*cm2inch))\n",
    "ax = fig.add_subplot(111)\n",
    "#ax.plot([1,2,3])\n",
    "\n",
    "m.populate(s)\n",
    "\n",
    "m.move_by(4,4)\n",
    "\n",
    "plt.rcParams['figure.figsize'] = [15, 15]\n",
    "\n",
    "pm = m.getPolygon()\n",
    "plt.gca().add_patch(pm)\n",
    "\n",
    "for sen in m.sensors:\n",
    "    plt.gca().add_patch(sen.getPolygon())\n",
    "    plt.gca().add_patch(sen.getPolygon(active=True))\n",
    "\n",
    "\n",
    "ax.set_ylim(0,15)\n",
    "ax.set_xlim(0,15)\n",
    "\n",
    "ax.plot([0.1,1.1],[0.1,0.1],label='1 cm')\n",
    "ax.plot([0.1,0.1],[0.1,1.1], label='1 cm')\n",
    "ax.legend()\n",
    "\n",
    "fig.subplots_adjust(left   = left_margin / box_width,\n",
    "                    bottom = bottom_margin / box_height,\n",
    "                    right  = 1. - right_margin / box_width,\n",
    "                    top    = 1. - top_margin   / box_height,\n",
    "                    )\n",
    "\n",
    "fig.savefig('module_scale.png', dpi=300)\n",
    "fig.savefig('module_scale.pdf', dpi=500)\n",
    "\n",
    "plt.axis('scaled')\n",
    "plt.show()"
   ]
  },
  {
   "cell_type": "code",
   "execution_count": null,
   "id": "configured-census",
   "metadata": {},
   "outputs": [],
   "source": []
  }
 ],
 "metadata": {
  "kernelspec": {
   "display_name": "Python 3",
   "language": "python",
   "name": "python3"
  },
  "language_info": {
   "codemirror_mode": {
    "name": "ipython",
    "version": 3
   },
   "file_extension": ".py",
   "mimetype": "text/x-python",
   "name": "python",
   "nbconvert_exporter": "python",
   "pygments_lexer": "ipython3",
   "version": "3.7.7"
  }
 },
 "nbformat": 4,
 "nbformat_minor": 5
}
