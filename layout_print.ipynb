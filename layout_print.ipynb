{
 "cells": [
  {
   "cell_type": "markdown",
   "id": "classified-xerox",
   "metadata": {},
   "source": [
    "# Print a simplified ETL layout from python"
   ]
  },
  {
   "cell_type": "markdown",
   "id": "faced-address",
   "metadata": {},
   "source": [
    "Printing to scale on stack exchange: https://stackoverflow.com/questions/29400116/using-matplotlib-how-can-i-print-something-actual-size"
   ]
  },
  {
   "cell_type": "code",
   "execution_count": 2,
   "id": "external-sponsorship",
   "metadata": {},
   "outputs": [],
   "source": [
    "import matplotlib.pyplot as plt\n"
   ]
  },
  {
   "cell_type": "markdown",
   "id": "awful-headquarters",
   "metadata": {},
   "source": [
    "## Simple example"
   ]
  },
  {
   "cell_type": "code",
   "execution_count": 3,
   "id": "reflected-refund",
   "metadata": {},
   "outputs": [
    {
     "data": {
      "image/png": "[encoded data removed]",
      "text/plain": [
       "<Figure size 481.89x481.89 with 1 Axes>"
      ]
     },
     "metadata": {
      "needs_background": "light"
     },
     "output_type": "display_data"
    }
   ],
   "source": [
    "left_margin = 1.   # cm\n",
    "right_margin = 1.  # cm\n",
    "figure_width = 15. # cm\n",
    "figure_height = 15. # cm\n",
    "top_margin = 1.    # cm\n",
    "bottom_margin = 1. # cm\n",
    "\n",
    "box_width = left_margin + figure_width + right_margin   # cm\n",
    "box_height = top_margin + figure_height + bottom_margin # cm\n",
    "\n",
    "cm2inch = 1/2.54 # inch per cm\n",
    "\n",
    "# specifying the width and the height of the box in inches\n",
    "fig = plt.figure(figsize=(box_width*cm2inch,box_height*cm2inch))\n",
    "ax = fig.add_subplot(111)\n",
    "#ax.plot([1,2,3])\n",
    "\n",
    "ax.set_ylim(0,15)\n",
    "ax.set_xlim(0,15)\n",
    "\n",
    "ax.plot([0.5, 1.5],[0.25, 0.25],label='One cm?')\n",
    "ax.plot([6,6],[1,2], label='One cm?')\n",
    "ax.legend()\n",
    "\n",
    "fig.subplots_adjust(left   = left_margin / box_width,\n",
    "                    bottom = bottom_margin / box_height,\n",
    "                    right  = 1. - right_margin / box_width,\n",
    "                    top    = 1. - top_margin   / box_height,\n",
    "                    )\n",
    "fig.savefig('ten_x_seven_cm.png', dpi=128)\n",
    "# dpi = 128 is what works in my display for matching the designed dimensions."
   ]
  },
  {
   "cell_type": "markdown",
   "id": "pleased-snapshot",
   "metadata": {},
   "source": [
    "## ETL single SH"
   ]
  },
  {
   "cell_type": "code",
   "execution_count": 4,
   "id": "inclusive-improvement",
   "metadata": {},
   "outputs": [],
   "source": [
    "%reload_ext autoreload\n",
    "%autoreload 2\n",
    "\n",
    "from ETL import *;"
   ]
  },
  {
   "cell_type": "code",
   "execution_count": 5,
   "id": "boxed-proceeding",
   "metadata": {},
   "outputs": [],
   "source": [
    "sensor_x = 2.14\n",
    "sensor_y = 2.16\n",
    "module_x = 4.310\n",
    "module_y = 5.750"
   ]
  },
  {
   "cell_type": "code",
   "execution_count": 6,
   "id": "convinced-jamaica",
   "metadata": {},
   "outputs": [
    {
     "data": {
      "image/png": "[encoded data removed]",
      "text/plain": [
       "<Figure size 481.89x481.89 with 1 Axes>"
      ]
     },
     "metadata": {
      "needs_background": "light"
     },
     "output_type": "display_data"
    }
   ],
   "source": [
    "\n",
    "s = Sensor(sensor_x, sensor_y,deadspace=0.03)  # 3 sides of 0.3mm, 1 side of 0.5mm\n",
    "m = Module(module_x, module_y, n_sensor_x=2, n_sensor_y=2, sensor_distance_y=sensor_y+0.02, sensor_distance_x=sensor_x+0.02)\n",
    "# this module is now 1mm larger in y\n",
    "\n",
    "left_margin = 1.   # cm\n",
    "right_margin = 1.  # cm\n",
    "figure_width = 15. # cm\n",
    "figure_height = 15. # cm\n",
    "top_margin = 1.    # cm\n",
    "bottom_margin = 1. # cm\n",
    "\n",
    "box_width = left_margin + figure_width + right_margin   # cm\n",
    "box_height = top_margin + figure_height + bottom_margin # cm\n",
    "\n",
    "# specifying the width and the height of the box in inches\n",
    "fig = plt.figure(figsize=(box_width*cm2inch,box_height*cm2inch))\n",
    "ax = fig.add_subplot(111)\n",
    "#ax.plot([1,2,3])\n",
    "\n",
    "m.populate(s)\n",
    "\n",
    "m.move_by(4,4)\n",
    "\n",
    "plt.rcParams['figure.figsize'] = [15, 15]\n",
    "\n",
    "pm = m.getPolygon()\n",
    "plt.gca().add_patch(pm)\n",
    "\n",
    "for sen in m.sensors:\n",
    "    plt.gca().add_patch(sen.getPolygon())\n",
    "    plt.gca().add_patch(sen.getPolygon(active=True))\n",
    "\n",
    "\n",
    "ax.set_ylim(0,15)\n",
    "ax.set_xlim(0,15)\n",
    "\n",
    "ax.plot([0.1,1.1],[0.1,0.1],label='1 cm')\n",
    "ax.plot([0.1,0.1],[0.1,1.1], label='1 cm')\n",
    "ax.legend()\n",
    "\n",
    "fig.subplots_adjust(left   = left_margin / box_width,\n",
    "                    bottom = bottom_margin / box_height,\n",
    "                    right  = 1. - right_margin / box_width,\n",
    "                    top    = 1. - top_margin   / box_height,\n",
    "                    )\n",
    "\n",
    "fig.savefig('module_scale.png', dpi=300)\n",
    "fig.savefig('module_scale.pdf', dpi=500)\n",
    "\n",
    "plt.axis('scaled')\n",
    "plt.show()"
   ]
  },
  {
   "cell_type": "markdown",
   "id": "necessary-affect",
   "metadata": {},
   "source": [
    "# Supermodule"
   ]
  },
  {
   "cell_type": "code",
   "execution_count": 7,
   "id": "eastern-massachusetts",
   "metadata": {},
   "outputs": [],
   "source": [
    "s = Sensor(sensor_x, sensor_y,deadspace=0.03)  # 3 sides of 0.3mm, 1 side of 0.5mm\n",
    "m = Module(4.310, 5.750, n_sensor_x=2, n_sensor_y=2, sensor_distance_y=sensor_y+0.02, sensor_distance_x=sensor_x+0.02)\n",
    "# this module is now 1mm larger in y\n",
    "detector = {}\n",
    "edge_x = 6  # 6mm is the default\n",
    "\n",
    "detector = {}\n",
    "r_inner = 31.5\n",
    "r_outer = 118.5\n",
    "\n",
    "m.populate(s) #put sensors on module\n",
    "module_gap = .05\n",
    "rb = ReadoutBoard(1, module_y, color='green')\n",
    "pb = ReadoutBoard(1, 2.95, color='red')\n",
    "\n",
    "SM = SuperModule(m, pb, rb, n_modules=3, module_gap=module_gap, orientation='above', cm=True)\n"
   ]
  },
  {
   "cell_type": "code",
   "execution_count": 8,
   "id": "streaming-agency",
   "metadata": {},
   "outputs": [
    {
     "data": {
      "image/png": "[encoded data removed]",
      "text/plain": [
       "<Figure size 481.89x481.89 with 1 Axes>"
      ]
     },
     "metadata": {
      "needs_background": "light"
     },
     "output_type": "display_data"
    }
   ],
   "source": [
    "left_margin = 1.   # cm\n",
    "right_margin = 1.  # cm\n",
    "figure_width = 15. # cm\n",
    "figure_height = 15. # cm\n",
    "top_margin = 1.    # cm\n",
    "bottom_margin = 1. # cm\n",
    "\n",
    "box_width = left_margin + figure_width + right_margin   # cm\n",
    "box_height = top_margin + figure_height + bottom_margin # cm\n",
    "\n",
    "# specifying the width and the height of the box in inches\n",
    "fig = plt.figure(figsize=(box_width*cm2inch,box_height*cm2inch))\n",
    "ax = fig.add_subplot(111)\n",
    "\n",
    "plt.rcParams['figure.figsize'] = [15, 15]\n",
    "\n",
    "SM.move_by(7,5)\n",
    "\n",
    "plt.gca().add_patch(SM.PB.getPolygon())\n",
    "plt.gca().add_patch(SM.RB.getPolygon())\n",
    "\n",
    "for mod in SM.modules:\n",
    "    plt.gca().add_patch(mod.getPolygon())\n",
    "    for sen in mod.sensors:\n",
    "        plt.gca().add_patch(sen.getPolygon())\n",
    "        plt.gca().add_patch(sen.getPolygon(active=True))\n",
    "\n",
    "plt.gca().add_patch(SM.VTRX.getPolygon())\n",
    "        \n",
    "ax.set_ylim(0,15)\n",
    "ax.set_xlim(0,15)\n",
    "\n",
    "ax.plot([0.1,1.1],[0.1,0.1],label='1 cm')\n",
    "ax.plot([0.1,0.1],[0.1,1.1], label='1 cm')\n",
    "ax.legend()\n",
    "\n",
    "fig.subplots_adjust(left   = left_margin / box_width,\n",
    "                    bottom = bottom_margin / box_height,\n",
    "                    right  = 1. - right_margin / box_width,\n",
    "                    top    = 1. - top_margin   / box_height,\n",
    "                    )\n",
    "\n",
    "fig.savefig('supermodule_scale.png', dpi=300)\n",
    "fig.savefig('supermodule_scale.pdf', dpi=500)\n",
    "\n",
    "plt.axis('scaled')\n",
    "plt.show()\n"
   ]
  },
  {
   "cell_type": "markdown",
   "id": "southern-auction",
   "metadata": {},
   "source": [
    "# Full detector"
   ]
  },
  {
   "cell_type": "code",
   "execution_count": 9,
   "id": "minimal-variable",
   "metadata": {},
   "outputs": [],
   "source": [
    "from yaml import load, dump\n",
    "try:\n",
    "    from yaml import CLoader as Loader, CDumper as Dumper\n",
    "except ImportError:\n",
    "    from yaml import Loader, Dumper\n",
    "\n",
    "with open('layouts/database_new.yaml') as f:\n",
    "    database_new = load(f, Loader=Loader)\n",
    "\n",
    "disk_new = database_new['new']"
   ]
  },
  {
   "cell_type": "code",
   "execution_count": 10,
   "id": "subtle-fusion",
   "metadata": {},
   "outputs": [],
   "source": [
    "new_layout = {}\n",
    "\n",
    "new_layout['D1'] = Dee(315, 1185)\n",
    "new_layout['D1'].fromCenters(disk_new['disk1']['front'], s, cm=True)\n",
    "\n",
    "new_layout['D2'] = Dee(315, 1185)\n",
    "new_layout['D2'].fromCenters(disk_new['disk1']['back'], s, cm=True)\n",
    "\n",
    "new_layout['D3'] = Dee(315, 1185)\n",
    "new_layout['D3'].fromCenters(disk_new['disk2']['front'], s, cm=True)\n",
    "\n",
    "new_layout['D4'] = Dee(315, 1185)\n",
    "new_layout['D4'].fromCenters(disk_new['disk2']['back'], s, cm=True)"
   ]
  },
  {
   "cell_type": "code",
   "execution_count": 11,
   "id": "distinct-cream",
   "metadata": {},
   "outputs": [],
   "source": [
    "d = new_layout['D2']\n",
    "\n",
    "x_centers = [ sens.x for sens in d.sensors ]\n",
    "y_centers = []\n",
    "for i, sens in enumerate(d.sensors):\n",
    "    if sens.x>0:\n",
    "        y_centers.append(sens.y)\n",
    "\n",
    "y_positions_individual = set(y_centers)\n",
    "\n",
    "y_counts = []\n",
    "for y in reversed(sorted(y_positions_individual)):\n",
    "    y_counts.append((y, int(y_centers.count(y))))\n",
    "    \n",
    "count_vector = y_counts[::2]\n",
    "\n",
    "partitions = []\n",
    "for module_count in count_vector:\n",
    "    partitions.append((module_count[0], getPartition(module_count[1], flavors=[3,6,7])))\n",
    "\n",
    "mod_partitions = []\n",
    "\n",
    "for part in partitions:\n",
    "    if abs(part[0])<500:\n",
    "        if part[1][-1] == 6:\n",
    "            new_part = part[1][:-1] + [3,3]\n",
    "        else:\n",
    "            new_part = part[1]\n",
    "    else:\n",
    "        new_part = part[1]\n",
    "    if len(new_part)>0:\n",
    "        mod_partitions.append((part[0], len(new_part), new_part))"
   ]
  },
  {
   "cell_type": "code",
   "execution_count": 12,
   "id": "absent-walter",
   "metadata": {},
   "outputs": [],
   "source": [
    "modify_partitions = True  # This switches on/off the forced short RBs at the center\n",
    "\n",
    "n_readout_boards = {3:0, 6:0, 7:0}\n",
    "n_modules = 0\n",
    "\n",
    "faces = ['D1']\n",
    "\n",
    "for face in faces:\n",
    "    y_centers = []\n",
    "    for i, sens in enumerate(d.sensors):\n",
    "        if sens.x>0:\n",
    "            y_centers.append(sens.y)\n",
    "        y_positions_individual = set(y_centers)\n",
    "    y_counts = []\n",
    "    for y in reversed(sorted(y_positions_individual)):\n",
    "        y_counts.append((y, int(y_centers.count(y))))\n",
    "\n",
    "    count_vector = y_counts[::2]\n",
    "    partitions = []\n",
    "    for module_count in count_vector:\n",
    "        #print (module_count)\n",
    "        n_modules += module_count[1]\n",
    "        partitions.append((module_count[0], getPartition(module_count[1], flavors=[3,6,7])))\n",
    "        \n",
    "    mod_partitions = []\n",
    "\n",
    "    for part in partitions:\n",
    "        \n",
    "        if abs(part[0])<50.0 and modify_partitions:\n",
    "            if part[1][-1] == 6:\n",
    "                new_part = part[1][:-1] + [3,3]\n",
    "            elif part[1][-2] == 6 and part[1][-1] == 3 and abs(part[0])>40.0:\n",
    "                new_part = part[1][:-2] + [3,3,3]\n",
    "            else:\n",
    "                new_part = part[1]\n",
    "        else:\n",
    "            new_part = part[1]\n",
    "        if len(new_part)>0:\n",
    "            mod_partitions.append((part[0], len(new_part), new_part))\n",
    "            n_readout_boards[3] += new_part.count(3)*4  # multiply with 4 for full face (mirrored) + second endcap\n",
    "            n_readout_boards[6] += new_part.count(6)*4\n",
    "            n_readout_boards[7] += new_part.count(7)*4"
   ]
  },
  {
   "cell_type": "code",
   "execution_count": 13,
   "id": "standing-litigation",
   "metadata": {},
   "outputs": [],
   "source": [
    "centers = [ (sens.x, sens.y) for sens in d.sensors if sens.x>0 ]\n",
    "\n",
    "centers.sort(key=lambda y: y[1], reverse=True)\n",
    "\n",
    "y_centers = []\n",
    "for i, sens in enumerate(d.sensors):\n",
    "    if sens.x>0:\n",
    "        y_centers.append(sens.y)\n",
    "\n",
    "#y_centers = [ sens.y for sens in d.sensors ]\n",
    "y_centers.sort(reverse=True)\n",
    "\n",
    "y_positions_individual = set(y_centers)\n",
    "y_positions_individual = list(y_positions_individual)\n",
    "y_positions_individual.sort(reverse=True)\n",
    "\n",
    "y_centers_module = (np.array(y_positions_individual[0::2]) + np.array(y_positions_individual[1::2]))/2\n",
    "\n",
    "x_centers_module = {y:[] for y in y_centers_module}\n",
    "for x, y in centers:\n",
    "    if y in y_positions_individual[0::2]:\n",
    "        i = list(y_positions_individual[0::2]).index(y)\n",
    "        x_centers_module[y_centers_module[i]].append(x)"
   ]
  },
  {
   "cell_type": "code",
   "execution_count": 14,
   "id": "adopted-freedom",
   "metadata": {},
   "outputs": [],
   "source": [
    "for face in ['D2']:\n",
    "    y_centers = []\n",
    "    for i, sens in enumerate(d.sensors):\n",
    "        if sens.x>0:\n",
    "            y_centers.append(sens.y)\n",
    "            \n",
    "    #y_centers = [ sens.y for sens in new_layout[face].sensors ]\n",
    "    y_positions_individual = set(y_centers)\n",
    "    y_counts = []\n",
    "    for y in reversed(sorted(y_positions_individual)):\n",
    "        if -415>y>-420:\n",
    "            y_counts.append((y, int(y_centers.count(y))+2))\n",
    "        else:\n",
    "            y_counts.append((y, int(y_centers.count(y))))\n",
    "\n",
    "    count_vector = y_counts[::2]\n",
    "    partitions = []\n",
    "    for module_count in count_vector:\n",
    "        partitions.append((module_count[0], getPartition(module_count[1], flavors=[3,6,7])))\n",
    "        \n",
    "    mod_partitions = []\n",
    "\n",
    "    for part in partitions:\n",
    "        if abs(part[0])<50.0 and modify_partitions:\n",
    "            if part[1][-1] == 6:\n",
    "                new_part = part[1][:-1] + [3,3]\n",
    "            elif part[1][-2] == 6 and part[1][-1] == 3 and abs(part[0])>40.0:\n",
    "                new_part = part[1][:-2] + [3,3,3]\n",
    "            else:\n",
    "                new_part = part[1]\n",
    "        else:\n",
    "            new_part = part[1]\n",
    "        if len(new_part)>0:\n",
    "            mod_partitions.append((part[0], len(new_part), new_part))"
   ]
  },
  {
   "cell_type": "code",
   "execution_count": 15,
   "id": "virgin-polyester",
   "metadata": {},
   "outputs": [],
   "source": [
    "supermodules = []\n",
    "\n",
    "for i, y in enumerate(x_centers_module.keys()):\n",
    "    _, __, partition = mod_partitions[i]\n",
    "    start = 0\n",
    "    for n_mod in partition:\n",
    "        tmp = copy.deepcopy(SuperModule.fromSuperModule(SM, n_modules=n_mod, module_gap=SM.module_gap, orientation=SM.orientation, color=colors[n_mod], cm=True))\n",
    "        x = sum(x_centers_module[y][start:start+n_mod])/n_mod\n",
    "        tmp.move_by(x, y+pb.width/2) ## switch between + and - for D1/D2\n",
    "        start += n_mod\n",
    "        supermodules.append(tmp)"
   ]
  },
  {
   "cell_type": "code",
   "execution_count": 16,
   "id": "fluid-oklahoma",
   "metadata": {},
   "outputs": [
    {
     "data": {
      "image/png": "[encoded data removed]",
      "text/plain": [
       "<Figure size 1080x1080 with 1 Axes>"
      ]
     },
     "metadata": {
      "needs_background": "light"
     },
     "output_type": "display_data"
    }
   ],
   "source": [
    "SM = SuperModule(m, pb, rb, n_modules=3, orientation='above')\n",
    "\n",
    "face = 'D2'\n",
    "\n",
    "inner = plt.Circle((0, 0), 31.5,fill=None, edgecolor='r')\n",
    "rad_boarder = plt.Circle((0, 0), 52.0,fill=None, edgecolor='black', linewidth=1)\n",
    "outer = plt.Circle((0, 0), 118.5,fill=None, edgecolor='r')\n",
    "\n",
    "\n",
    "plt.rcParams['figure.figsize'] = [15, 15]\n",
    "\n",
    "plt.gca().add_patch(inner)\n",
    "plt.gca().add_patch(rad_boarder)\n",
    "plt.gca().add_patch(outer)\n",
    "\n",
    "for SM in supermodules:\n",
    "    plt.gca().add_patch(SM.getPolygon(alpha=0.5, fill=False))\n",
    "    plt.gca().add_patch(SM.VTRX.getPolygon(alpha=1.0))\n",
    "    plt.gca().add_patch(SM.PB.getPolygon(fill=False))\n",
    "    plt.gca().add_patch(SM.RB.getPolygon(fill=False))\n",
    "\n",
    "if False:\n",
    "    for dee in [face]:#new_layout:\n",
    "        for sen in new_layout[dee].sensors:\n",
    "            plt.gca().add_patch(sen.getPolygon(active=True, alpha=0.5))\n",
    "\n",
    "holes = []\n",
    "holes.append(plt.Circle((19.0, -32.9), 4.0,color='gray'))\n",
    "holes.append(plt.Circle((19.0, 32.9), 4.0,color='gray'))\n",
    "holes.append(plt.Circle((38.0, 0), 4.0,color='gray'))\n",
    "\n",
    "holes.append(plt.Circle((5.0, 113.53), 3.2,color='gray'))\n",
    "holes.append(plt.Circle((4.7, 107.6), 1.6,color='gray'))\n",
    "\n",
    "holes.append(plt.Circle((5.0, -113.53), 3.2,color='gray'))\n",
    "holes.append(plt.Circle((4.7, -107.6), 1.6,color='gray'))\n",
    "\n",
    "holes.append(plt.Circle((99.85, 40.315), 1.6,color='gray'))\n",
    "holes.append(plt.Circle((105.6, 42.7), 3.2,color='gray'))\n",
    "\n",
    "holes.append(plt.Circle((99.85, -40.315), 1.6,color='gray'))\n",
    "holes.append(plt.Circle((105.6, -42.7), 3.2,color='gray'))\n",
    "\n",
    "\n",
    "for hole in holes:\n",
    "    plt.gca().add_patch(hole)\n",
    "\n",
    "    \n",
    "plt.axis('scaled')\n",
    "plt.show()"
   ]
  },
  {
   "cell_type": "code",
   "execution_count": null,
   "id": "coated-xerox",
   "metadata": {},
   "outputs": [],
   "source": []
  },
  {
   "cell_type": "code",
   "execution_count": null,
   "id": "opposed-salon",
   "metadata": {},
   "outputs": [],
   "source": []
  }
 ],
 "metadata": {
  "kernelspec": {
   "display_name": "Python 3",
   "language": "python",
   "name": "python3"
  },
  "language_info": {
   "codemirror_mode": {
    "name": "ipython",
    "version": 3
   },
   "file_extension": ".py",
   "mimetype": "text/x-python",
   "name": "python",
   "nbconvert_exporter": "python",
   "pygments_lexer": "ipython3",
   "version": "3.7.7"
  }
 },
 "nbformat": 4,
 "nbformat_minor": 5
}
